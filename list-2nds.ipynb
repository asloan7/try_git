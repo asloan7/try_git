{
 "cells": [
  {
   "cell_type": "code",
   "execution_count": 1,
   "id": "87ee825d",
   "metadata": {},
   "outputs": [
    {
     "name": "stdout",
     "output_type": "stream",
     "text": [
      "Sorted:  [1, 2, 3, 4, 6, 8, 9, 11, 13, 255]\n",
      "2nd smallest 2\n",
      "2nd largest 13\n"
     ]
    }
   ],
   "source": [
    "#return the second smallest and second largest numbers from a given list of numbers\n",
    "import sys\n",
    "\n",
    "numlist = [2, 4, 6, 8, 9, 255, 11, 13, 1, 3]\n",
    "numlist.sort()\n",
    "\n",
    "print(\"Sorted: \", numlist)\n",
    "\n",
    "print(\"2nd smallest\", numlist[1])\n",
    "print(\"2nd largest\", numlist[-2])\n"
   ]
  },
  {
   "cell_type": "code",
   "execution_count": null,
   "id": "9247e9f9",
   "metadata": {},
   "outputs": [],
   "source": []
  }
 ],
 "metadata": {
  "kernelspec": {
   "display_name": "Python 3 (ipykernel)",
   "language": "python",
   "name": "python3"
  },
  "language_info": {
   "codemirror_mode": {
    "name": "ipython",
    "version": 3
   },
   "file_extension": ".py",
   "mimetype": "text/x-python",
   "name": "python",
   "nbconvert_exporter": "python",
   "pygments_lexer": "ipython3",
   "version": "3.9.13"
  }
 },
 "nbformat": 4,
 "nbformat_minor": 5
}
